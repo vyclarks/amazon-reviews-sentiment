{
 "cells": [
  {
   "cell_type": "markdown",
   "id": "56802f23",
   "metadata": {},
   "source": [
    "<Center>\n",
    "    <h1 style=\"font-family: Roboto slab\">\n",
    "        <p>\n",
    "        <font color=\"white\">\n",
    "            Sentiment Mining for Amazon Devices: \n",
    "            <br>\n",
    "            Applying Natural Language Processing with Machine Learning and Deep Learning Techniques\n",
    "        </font>\n",
    "    </h1>\n",
    "    <h3 style=\"font-family: Roboto slab\">\n",
    "        <font color=\"yellow\">\n",
    "            Notebook 2/5: Data Pre-Processing\n",
    "        </font>\n",
    "    </h3>\n",
    "</Center>"
   ]
  },
  {
   "cell_type": "markdown",
   "id": "9a59c21d",
   "metadata": {},
   "source": [
    "# I. Introduction & Context\n",
    "---------------------------------------------------------------------------"
   ]
  },
  {
   "cell_type": "markdown",
   "id": "b50972a8",
   "metadata": {},
   "source": [
    "### <font color = \"yellow\" >Objective:</font>\n",
    "This project aims to build a sentiment analysis tool to classify customer reviews of Amazon devices as positive, negative, or neutral. <br>\n",
    "\n",
    "The project involves preprocessing review text, extracting key features, and implementing both traditional machine learning models (Logistic Regression, Naive Bayes, Support Vector Machines, ...) and deep learning models (LSTM-based RNNs). After training and evaluating these models, the project will compare their performance to select the most effective one for deployment in the sentiment analysis tool. This approach ensures that the tool utilizes the best-performing model to deliver accurate sentiment classification, ultimately supporting better business decisions and product improvements.\n",
    "\n",
    "### <font color = \"yellow\">Application Overview:</font>\n",
    "This application approach is divided into 5 core steps:\n",
    "\n",
    "<ul>\n",
    "    <li>\n",
    "        <u>Step 1:</u>  Data Collection\n",
    "        <ul>\n",
    "            <li> <b>Description:</b> Gather Amazon devices reviews from Amazon's website using web scraping techniques: Selenium, BeautifulSoup, scrape review data to capture review_id, Reviewer, Rating, Date, Review_title, Review_content, Product_id & Product_link</li>\n",
    "            <li> <b> Output: </b> Raw dataset of Amazon device reviews, including review text, star ratings, and other relevant metadata.</li>\n",
    "        </ul>\n",
    "    </li>\n",
    "</ul>\n",
    "<ul>\n",
    "    <li>\n",
    "        <u>Step 2:</u> Data Pre-Processing\n",
    "        <ul>\n",
    "            <li><b> Description: </b> Clean and prepare the review text for exploratory analysis. Identify and resolve missing values or inconsistencies in the dataset. Convert text to lowercase, remove special characters, stop words, punctuations; apply tokenization and lemmatization.\n",
    "            </li>\n",
    "            <li> <b> Output: </b> Cleaned dataset for EDA and model development.</li>\n",
    "        </ul>\n",
    "    </li>\n",
    "</ul>\n",
    "<ul>\n",
    "    <li>\n",
    "        <u>Step 3:</u> Exploratory Data Analysis\n",
    "        <ul>\n",
    "            <li>Data Distribution: Analyze review counts across sentiment classes. </li>\n",
    "            <li>Text Analysis: Review text length, word count, and common words.</li>\n",
    "            <li>Sentiment Visualization: Visualize trends in positive, neutral, and negative reviews.</li>\n",
    "        </ul>\n",
    "    </li>\n",
    "</ul>\n",
    "<ul>\n",
    "    <li>\n",
    "        <u>Step 4:</u > Model Development\n",
    "         <ul>\n",
    "            <li>Developing 5 machine learning and LSTM deep learning models.</li>\n",
    "            <li>Evaluating models performance.</li>\n",
    "            <li>Selecting the best model for final hyperparameter tuning</li>\n",
    "            <li>Validating final model's predictions on 10 new real reviews</li>\n",
    "        </ul>\n",
    "    </li>\n",
    "</ul>\n",
    "<ul>\n",
    "    <li>\n",
    "        <u>Step 5:</u> Model Deployment\n",
    "        <ul>\n",
    "            <li>Deploy the sentiment analysis model via a Flask API and create a website for users to input reviews and view predicted sentiments in real-time.</li>\n",
    "        </ul>\n",
    "    </li>\n",
    "</ul>"
   ]
  },
  {
   "cell_type": "markdown",
   "id": "a6dd27d9",
   "metadata": {},
   "source": [
    "# II. Data Preprocessing\n",
    "---------------------------------------------------------------------------"
   ]
  },
  {
   "cell_type": "markdown",
   "id": "70c1b3e3",
   "metadata": {},
   "source": [
    "## <font color = \"red\">1.  Libaries Import</font>"
   ]
  },
  {
   "cell_type": "code",
   "execution_count": 145,
   "id": "63eac0a4",
   "metadata": {},
   "outputs": [
    {
     "name": "stderr",
     "output_type": "stream",
     "text": [
      "[nltk_data] Downloading package stopwords to\n",
      "[nltk_data]     /Users/vytran/nltk_data...\n",
      "[nltk_data]   Package stopwords is already up-to-date!\n",
      "[nltk_data] Downloading package punkt to /Users/vytran/nltk_data...\n",
      "[nltk_data]   Package punkt is already up-to-date!\n",
      "[nltk_data] Downloading package wordnet to /Users/vytran/nltk_data...\n",
      "[nltk_data]   Package wordnet is already up-to-date!\n",
      "[nltk_data] Downloading package omw-1.4 to /Users/vytran/nltk_data...\n",
      "[nltk_data]   Package omw-1.4 is already up-to-date!\n",
      "[nltk_data] Downloading package averaged_perceptron_tagger to\n",
      "[nltk_data]     /Users/vytran/nltk_data...\n",
      "[nltk_data]   Package averaged_perceptron_tagger is already up-to-\n",
      "[nltk_data]       date!\n"
     ]
    }
   ],
   "source": [
    "# Basic libraries\n",
    "import pandas as pd\n",
    "import numpy as np\n",
    "\n",
    "# For Decoding HTML Entities\n",
    "import html\n",
    "\n",
    "from nltk.corpus import stopwords\n",
    "from nltk.corpus import wordnet\n",
    "from nltk.stem import WordNetLemmatizer\n",
    "from nltk import pos_tag, word_tokenize\n",
    "import nltk\n",
    "import contractions\n",
    "import re\n",
    "\n",
    "# Download necessary NLTK resources\n",
    "nltk.download('stopwords')\n",
    "nltk.download('punkt')\n",
    "nltk.download('wordnet')\n",
    "nltk.download('omw-1.4')\n",
    "nltk.download('averaged_perceptron_tagger')\n",
    "\n",
    "# Suppress FutureWarnings\n",
    "import warnings\n",
    "warnings.filterwarnings(\"ignore\", category=FutureWarning)"
   ]
  },
  {
   "cell_type": "markdown",
   "id": "946cbda5",
   "metadata": {},
   "source": [
    "## <font color=\"red\">2.  Dataset import</font>"
   ]
  },
  {
   "cell_type": "code",
   "execution_count": 146,
   "id": "67abf442",
   "metadata": {},
   "outputs": [],
   "source": [
    "# Read reviews from an Excel file\n",
    "raw_reviews = pd.read_excel('../data/amazon_reviews.xlsx')"
   ]
  },
  {
   "cell_type": "code",
   "execution_count": 147,
   "id": "4d5b27e2",
   "metadata": {},
   "outputs": [
    {
     "data": {
      "text/plain": [
       "(15862, 9)"
      ]
     },
     "execution_count": 147,
     "metadata": {},
     "output_type": "execute_result"
    }
   ],
   "source": [
    "# Check columns and rows\n",
    "raw_reviews.shape"
   ]
  },
  {
   "cell_type": "code",
   "execution_count": 148,
   "id": "1aa4288d",
   "metadata": {},
   "outputs": [
    {
     "name": "stdout",
     "output_type": "stream",
     "text": [
      "<class 'pandas.core.frame.DataFrame'>\n",
      "RangeIndex: 15862 entries, 0 to 15861\n",
      "Data columns (total 9 columns):\n",
      " #   Column          Non-Null Count  Dtype  \n",
      "---  ------          --------------  -----  \n",
      " 0   Review_id       15862 non-null  object \n",
      " 1   Reviewer        15858 non-null  object \n",
      " 2   Rating          15806 non-null  float64\n",
      " 3   Date            15862 non-null  object \n",
      " 4   Review title    15828 non-null  object \n",
      " 5   Review content  15847 non-null  object \n",
      " 6   Product_id      15862 non-null  object \n",
      " 7   Product_title   15862 non-null  object \n",
      " 8   Product_link    15862 non-null  object \n",
      "dtypes: float64(1), object(8)\n",
      "memory usage: 1.1+ MB\n"
     ]
    }
   ],
   "source": [
    "# Check data information\n",
    "raw_reviews.info()"
   ]
  },
  {
   "cell_type": "code",
   "execution_count": 149,
   "id": "db08fbaf",
   "metadata": {},
   "outputs": [
    {
     "data": {
      "text/html": [
       "<div>\n",
       "<style scoped>\n",
       "    .dataframe tbody tr th:only-of-type {\n",
       "        vertical-align: middle;\n",
       "    }\n",
       "\n",
       "    .dataframe tbody tr th {\n",
       "        vertical-align: top;\n",
       "    }\n",
       "\n",
       "    .dataframe thead th {\n",
       "        text-align: right;\n",
       "    }\n",
       "</style>\n",
       "<table border=\"1\" class=\"dataframe\">\n",
       "  <thead>\n",
       "    <tr style=\"text-align: right;\">\n",
       "      <th></th>\n",
       "      <th>Review_id</th>\n",
       "      <th>Reviewer</th>\n",
       "      <th>Rating</th>\n",
       "      <th>Date</th>\n",
       "      <th>Review title</th>\n",
       "      <th>Review content</th>\n",
       "      <th>Product_id</th>\n",
       "      <th>Product_title</th>\n",
       "      <th>Product_link</th>\n",
       "    </tr>\n",
       "  </thead>\n",
       "  <tbody>\n",
       "    <tr>\n",
       "      <th>0</th>\n",
       "      <td>R192QJ45JRSLTC</td>\n",
       "      <td>Chris</td>\n",
       "      <td>5.0</td>\n",
       "      <td>13/07/2024</td>\n",
       "      <td>Didn't think I needed it until I wish I had it.</td>\n",
       "      <td>The Blink Subscription Basic Plan offers essen...</td>\n",
       "      <td>B08JHCVHTY</td>\n",
       "      <td>Blink Subscription Plus Plan with monthly auto...</td>\n",
       "      <td>https://www.amazon.com/Blink-Plus-Plan-monthly...</td>\n",
       "    </tr>\n",
       "    <tr>\n",
       "      <th>1</th>\n",
       "      <td>RLJN0G2I0CRNC</td>\n",
       "      <td>Amazon Customer</td>\n",
       "      <td>5.0</td>\n",
       "      <td>2024-12-10 00:00:00</td>\n",
       "      <td>Worth every penny!</td>\n",
       "      <td>I have had Blink cameras at my house for years...</td>\n",
       "      <td>B08JHCVHTY</td>\n",
       "      <td>Blink Subscription Plus Plan with monthly auto...</td>\n",
       "      <td>https://www.amazon.com/Blink-Plus-Plan-monthly...</td>\n",
       "    </tr>\n",
       "    <tr>\n",
       "      <th>2</th>\n",
       "      <td>R19D78F9YK0DVA</td>\n",
       "      <td>uniquely unique</td>\n",
       "      <td>5.0</td>\n",
       "      <td>2024-11-10 00:00:00</td>\n",
       "      <td>I’m quite satisfied</td>\n",
       "      <td>I’ve been using the Blink Subscription Plus Pl...</td>\n",
       "      <td>B08JHCVHTY</td>\n",
       "      <td>Blink Subscription Plus Plan with monthly auto...</td>\n",
       "      <td>https://www.amazon.com/Blink-Plus-Plan-monthly...</td>\n",
       "    </tr>\n",
       "    <tr>\n",
       "      <th>3</th>\n",
       "      <td>R2W7QUYHDCN6CB</td>\n",
       "      <td>Lyndi Dawn Macdonald</td>\n",
       "      <td>4.0</td>\n",
       "      <td>26/09/2024</td>\n",
       "      <td>Very Nice Added Security</td>\n",
       "      <td>Really like having these cameras, they give us...</td>\n",
       "      <td>B08JHCVHTY</td>\n",
       "      <td>Blink Subscription Plus Plan with monthly auto...</td>\n",
       "      <td>https://www.amazon.com/Blink-Plus-Plan-monthly...</td>\n",
       "    </tr>\n",
       "    <tr>\n",
       "      <th>4</th>\n",
       "      <td>RM9R0N4N310DC</td>\n",
       "      <td>ccoulson90</td>\n",
       "      <td>5.0</td>\n",
       "      <td>21/10/2024</td>\n",
       "      <td>Great Item</td>\n",
       "      <td>The Blink Subscription Plus Plan is a fantasti...</td>\n",
       "      <td>B08JHCVHTY</td>\n",
       "      <td>Blink Subscription Plus Plan with monthly auto...</td>\n",
       "      <td>https://www.amazon.com/Blink-Plus-Plan-monthly...</td>\n",
       "    </tr>\n",
       "  </tbody>\n",
       "</table>\n",
       "</div>"
      ],
      "text/plain": [
       "        Review_id              Reviewer  Rating                 Date  \\\n",
       "0  R192QJ45JRSLTC                 Chris     5.0           13/07/2024   \n",
       "1   RLJN0G2I0CRNC       Amazon Customer     5.0  2024-12-10 00:00:00   \n",
       "2  R19D78F9YK0DVA       uniquely unique     5.0  2024-11-10 00:00:00   \n",
       "3  R2W7QUYHDCN6CB  Lyndi Dawn Macdonald     4.0           26/09/2024   \n",
       "4   RM9R0N4N310DC            ccoulson90     5.0           21/10/2024   \n",
       "\n",
       "                                      Review title  \\\n",
       "0  Didn't think I needed it until I wish I had it.   \n",
       "1                               Worth every penny!   \n",
       "2                              I’m quite satisfied   \n",
       "3                         Very Nice Added Security   \n",
       "4                                       Great Item   \n",
       "\n",
       "                                      Review content  Product_id  \\\n",
       "0  The Blink Subscription Basic Plan offers essen...  B08JHCVHTY   \n",
       "1  I have had Blink cameras at my house for years...  B08JHCVHTY   \n",
       "2  I’ve been using the Blink Subscription Plus Pl...  B08JHCVHTY   \n",
       "3  Really like having these cameras, they give us...  B08JHCVHTY   \n",
       "4  The Blink Subscription Plus Plan is a fantasti...  B08JHCVHTY   \n",
       "\n",
       "                                       Product_title  \\\n",
       "0  Blink Subscription Plus Plan with monthly auto...   \n",
       "1  Blink Subscription Plus Plan with monthly auto...   \n",
       "2  Blink Subscription Plus Plan with monthly auto...   \n",
       "3  Blink Subscription Plus Plan with monthly auto...   \n",
       "4  Blink Subscription Plus Plan with monthly auto...   \n",
       "\n",
       "                                        Product_link  \n",
       "0  https://www.amazon.com/Blink-Plus-Plan-monthly...  \n",
       "1  https://www.amazon.com/Blink-Plus-Plan-monthly...  \n",
       "2  https://www.amazon.com/Blink-Plus-Plan-monthly...  \n",
       "3  https://www.amazon.com/Blink-Plus-Plan-monthly...  \n",
       "4  https://www.amazon.com/Blink-Plus-Plan-monthly...  "
      ]
     },
     "execution_count": 149,
     "metadata": {},
     "output_type": "execute_result"
    }
   ],
   "source": [
    "raw_reviews.head()"
   ]
  },
  {
   "cell_type": "markdown",
   "id": "d6650a14",
   "metadata": {},
   "source": [
    "## <font color=\"red\">3.  Dataset Details</font>"
   ]
  },
  {
   "cell_type": "markdown",
   "id": "b162777b",
   "metadata": {},
   "source": [
    "The Amazon review dataset contains the customer reviews for all listed Amazon devices: Echo, Fire TV, Fire Tablet...<br>\n",
    "There are a total of 15,862 reviews on 690 unique products. \n",
    "\n",
    "\n",
    "Descriptions of columns:\n",
    "- Reivew_id: ID of the review\n",
    "- Reviewer: Name of reviewer\n",
    "- Rating: Rating of the product by each reviewer\n",
    "- Date: date of the review dd/mm/yyyy\n",
    "- Review title: Review title\n",
    "- Review content: Content of the review\n",
    "- Product_id: ID of the product being reviewed\n",
    "- Prodcut_title: Product title\n",
    "- Product_link: Product link\n",
    "\n"
   ]
  },
  {
   "cell_type": "markdown",
   "id": "956434b4",
   "metadata": {},
   "source": [
    "## <font color=\"red\">4.  Rename Columns</font>"
   ]
  },
  {
   "cell_type": "code",
   "execution_count": 150,
   "id": "f85208c1",
   "metadata": {},
   "outputs": [
    {
     "name": "stdout",
     "output_type": "stream",
     "text": [
      "<class 'pandas.core.frame.DataFrame'>\n",
      "RangeIndex: 15862 entries, 0 to 15861\n",
      "Data columns (total 9 columns):\n",
      " #   Column          Non-Null Count  Dtype  \n",
      "---  ------          --------------  -----  \n",
      " 0   Review_id       15862 non-null  object \n",
      " 1   Reviewer        15858 non-null  object \n",
      " 2   Rating          15806 non-null  float64\n",
      " 3   Date            15862 non-null  object \n",
      " 4   Review_title    15828 non-null  object \n",
      " 5   Review_content  15847 non-null  object \n",
      " 6   Product_id      15862 non-null  object \n",
      " 7   Product_title   15862 non-null  object \n",
      " 8   Product_link    15862 non-null  object \n",
      "dtypes: float64(1), object(8)\n",
      "memory usage: 1.1+ MB\n"
     ]
    }
   ],
   "source": [
    "# Creating a copy dataset\n",
    "process_reviews = raw_reviews.copy()\n",
    "\n",
    "# Renaming the column 'Review title' to 'Review_title'\n",
    "process_reviews = process_reviews.rename(columns={'Review title': 'Review_title'})\n",
    "\n",
    "# Renaming the column 'Review content' to 'Review_content'\n",
    "process_reviews = process_reviews.rename(columns={'Review content': 'Review_content'})\n",
    "\n",
    "# Check data information\n",
    "process_reviews.info()\n"
   ]
  },
  {
   "cell_type": "markdown",
   "id": "a7143452",
   "metadata": {},
   "source": [
    "## <font color=\"red\">5.  Handling Null Values</font>"
   ]
  },
  {
   "cell_type": "code",
   "execution_count": 151,
   "id": "0d44b8cf",
   "metadata": {},
   "outputs": [
    {
     "data": {
      "text/plain": [
       "Review_id          0\n",
       "Reviewer           4\n",
       "Rating            56\n",
       "Date               0\n",
       "Review_title      34\n",
       "Review_content    15\n",
       "Product_id         0\n",
       "Product_title      0\n",
       "Product_link       0\n",
       "dtype: int64"
      ]
     },
     "execution_count": 151,
     "metadata": {},
     "output_type": "execute_result"
    }
   ],
   "source": [
    "# Checking for null values\n",
    "process_reviews.isnull().sum()"
   ]
  },
  {
   "cell_type": "markdown",
   "id": "d40fd191",
   "metadata": {},
   "source": [
    "Explanation:\n",
    "- Reviewer (4 nulls): This column likely doesn't impact sentiment analysis significantly, so filling these nulls with a placeholder: \"Anonymous\" to ensure no data loss.\n",
    "- Rating (56 nulls): Ratings are essential for sentiment classification. But null Rating values are less than 5% of the data set, so dropping these rows to maintain intergity.\n",
    "- Review_title (34 nulls): While review content is available, review title is not strickly necessary for sentiment analysis, so filling these rows with placeholder: \"Title sample\" to ensure no data loss.\n",
    "- Review_content (15 nulls): Since review content is crucial for sentiment analysis, rows with null values in this column should be dropped, as placeholders would not add meaningful content."
   ]
  },
  {
   "cell_type": "code",
   "execution_count": 152,
   "id": "0b4413e5",
   "metadata": {},
   "outputs": [
    {
     "data": {
      "text/plain": [
       "Review_id         0\n",
       "Reviewer          0\n",
       "Rating            0\n",
       "Date              0\n",
       "Review_title      0\n",
       "Review_content    0\n",
       "Product_id        0\n",
       "Product_title     0\n",
       "Product_link      0\n",
       "dtype: int64"
      ]
     },
     "execution_count": 152,
     "metadata": {},
     "output_type": "execute_result"
    }
   ],
   "source": [
    "# Filling 4 nulls in 'Reviewer' columns with : \"Anonymous\"\n",
    "process_reviews['Reviewer'] = process_reviews['Reviewer'].fillna('Anonymous')\n",
    "\n",
    "# Dropping rows with null values in the 'Rating' column\n",
    "process_reviews = process_reviews.dropna(subset=['Rating'])\n",
    "\n",
    "# Filling 34 nulls in 'Review_title' columns with : \"Title sample\"\n",
    "process_reviews[\"Review_title\"] = process_reviews['Review_title'].fillna('Title sample')\n",
    "\n",
    "# Dropping rows with null values in the 'Review_content' column\n",
    "process_reviews = process_reviews.dropna(subset=['Review_content'])\n",
    "\n",
    "# Checking for null values\n",
    "process_reviews.isnull().sum()"
   ]
  },
  {
   "cell_type": "markdown",
   "id": "79d33213",
   "metadata": {},
   "source": [
    "## <font color=\"red\">6.  Creating 'Review_length' and 'Word_count' Columns</font>"
   ]
  },
  {
   "cell_type": "markdown",
   "id": "1fb6f289",
   "metadata": {},
   "source": [
    "This step involves calculating the length and word count of each review to gain insights into the dataset's text structure."
   ]
  },
  {
   "cell_type": "code",
   "execution_count": 153,
   "id": "8df3c822",
   "metadata": {},
   "outputs": [
    {
     "data": {
      "text/html": [
       "<div>\n",
       "<style scoped>\n",
       "    .dataframe tbody tr th:only-of-type {\n",
       "        vertical-align: middle;\n",
       "    }\n",
       "\n",
       "    .dataframe tbody tr th {\n",
       "        vertical-align: top;\n",
       "    }\n",
       "\n",
       "    .dataframe thead th {\n",
       "        text-align: right;\n",
       "    }\n",
       "</style>\n",
       "<table border=\"1\" class=\"dataframe\">\n",
       "  <thead>\n",
       "    <tr style=\"text-align: right;\">\n",
       "      <th></th>\n",
       "      <th>Review_id</th>\n",
       "      <th>Reviewer</th>\n",
       "      <th>Rating</th>\n",
       "      <th>Date</th>\n",
       "      <th>Review_title</th>\n",
       "      <th>Review_content</th>\n",
       "      <th>Product_id</th>\n",
       "      <th>Product_title</th>\n",
       "      <th>Product_link</th>\n",
       "      <th>Review_len</th>\n",
       "      <th>Word_count</th>\n",
       "    </tr>\n",
       "  </thead>\n",
       "  <tbody>\n",
       "    <tr>\n",
       "      <th>0</th>\n",
       "      <td>R192QJ45JRSLTC</td>\n",
       "      <td>Chris</td>\n",
       "      <td>5.0</td>\n",
       "      <td>13/07/2024</td>\n",
       "      <td>Didn't think I needed it until I wish I had it.</td>\n",
       "      <td>The Blink Subscription Basic Plan offers essen...</td>\n",
       "      <td>B08JHCVHTY</td>\n",
       "      <td>Blink Subscription Plus Plan with monthly auto...</td>\n",
       "      <td>https://www.amazon.com/Blink-Plus-Plan-monthly...</td>\n",
       "      <td>2558</td>\n",
       "      <td>356</td>\n",
       "    </tr>\n",
       "    <tr>\n",
       "      <th>1</th>\n",
       "      <td>RLJN0G2I0CRNC</td>\n",
       "      <td>Amazon Customer</td>\n",
       "      <td>5.0</td>\n",
       "      <td>2024-12-10 00:00:00</td>\n",
       "      <td>Worth every penny!</td>\n",
       "      <td>I have had Blink cameras at my house for years...</td>\n",
       "      <td>B08JHCVHTY</td>\n",
       "      <td>Blink Subscription Plus Plan with monthly auto...</td>\n",
       "      <td>https://www.amazon.com/Blink-Plus-Plan-monthly...</td>\n",
       "      <td>190</td>\n",
       "      <td>37</td>\n",
       "    </tr>\n",
       "    <tr>\n",
       "      <th>2</th>\n",
       "      <td>R19D78F9YK0DVA</td>\n",
       "      <td>uniquely unique</td>\n",
       "      <td>5.0</td>\n",
       "      <td>2024-11-10 00:00:00</td>\n",
       "      <td>I’m quite satisfied</td>\n",
       "      <td>I’ve been using the Blink Subscription Plus Pl...</td>\n",
       "      <td>B08JHCVHTY</td>\n",
       "      <td>Blink Subscription Plus Plan with monthly auto...</td>\n",
       "      <td>https://www.amazon.com/Blink-Plus-Plan-monthly...</td>\n",
       "      <td>638</td>\n",
       "      <td>97</td>\n",
       "    </tr>\n",
       "    <tr>\n",
       "      <th>3</th>\n",
       "      <td>R2W7QUYHDCN6CB</td>\n",
       "      <td>Lyndi Dawn Macdonald</td>\n",
       "      <td>4.0</td>\n",
       "      <td>26/09/2024</td>\n",
       "      <td>Very Nice Added Security</td>\n",
       "      <td>Really like having these cameras, they give us...</td>\n",
       "      <td>B08JHCVHTY</td>\n",
       "      <td>Blink Subscription Plus Plan with monthly auto...</td>\n",
       "      <td>https://www.amazon.com/Blink-Plus-Plan-monthly...</td>\n",
       "      <td>996</td>\n",
       "      <td>189</td>\n",
       "    </tr>\n",
       "    <tr>\n",
       "      <th>4</th>\n",
       "      <td>RM9R0N4N310DC</td>\n",
       "      <td>ccoulson90</td>\n",
       "      <td>5.0</td>\n",
       "      <td>21/10/2024</td>\n",
       "      <td>Great Item</td>\n",
       "      <td>The Blink Subscription Plus Plan is a fantasti...</td>\n",
       "      <td>B08JHCVHTY</td>\n",
       "      <td>Blink Subscription Plus Plan with monthly auto...</td>\n",
       "      <td>https://www.amazon.com/Blink-Plus-Plan-monthly...</td>\n",
       "      <td>766</td>\n",
       "      <td>114</td>\n",
       "    </tr>\n",
       "  </tbody>\n",
       "</table>\n",
       "</div>"
      ],
      "text/plain": [
       "        Review_id              Reviewer  Rating                 Date  \\\n",
       "0  R192QJ45JRSLTC                 Chris     5.0           13/07/2024   \n",
       "1   RLJN0G2I0CRNC       Amazon Customer     5.0  2024-12-10 00:00:00   \n",
       "2  R19D78F9YK0DVA       uniquely unique     5.0  2024-11-10 00:00:00   \n",
       "3  R2W7QUYHDCN6CB  Lyndi Dawn Macdonald     4.0           26/09/2024   \n",
       "4   RM9R0N4N310DC            ccoulson90     5.0           21/10/2024   \n",
       "\n",
       "                                      Review_title  \\\n",
       "0  Didn't think I needed it until I wish I had it.   \n",
       "1                               Worth every penny!   \n",
       "2                              I’m quite satisfied   \n",
       "3                         Very Nice Added Security   \n",
       "4                                       Great Item   \n",
       "\n",
       "                                      Review_content  Product_id  \\\n",
       "0  The Blink Subscription Basic Plan offers essen...  B08JHCVHTY   \n",
       "1  I have had Blink cameras at my house for years...  B08JHCVHTY   \n",
       "2  I’ve been using the Blink Subscription Plus Pl...  B08JHCVHTY   \n",
       "3  Really like having these cameras, they give us...  B08JHCVHTY   \n",
       "4  The Blink Subscription Plus Plan is a fantasti...  B08JHCVHTY   \n",
       "\n",
       "                                       Product_title  \\\n",
       "0  Blink Subscription Plus Plan with monthly auto...   \n",
       "1  Blink Subscription Plus Plan with monthly auto...   \n",
       "2  Blink Subscription Plus Plan with monthly auto...   \n",
       "3  Blink Subscription Plus Plan with monthly auto...   \n",
       "4  Blink Subscription Plus Plan with monthly auto...   \n",
       "\n",
       "                                        Product_link  Review_len  Word_count  \n",
       "0  https://www.amazon.com/Blink-Plus-Plan-monthly...        2558         356  \n",
       "1  https://www.amazon.com/Blink-Plus-Plan-monthly...         190          37  \n",
       "2  https://www.amazon.com/Blink-Plus-Plan-monthly...         638          97  \n",
       "3  https://www.amazon.com/Blink-Plus-Plan-monthly...         996         189  \n",
       "4  https://www.amazon.com/Blink-Plus-Plan-monthly...         766         114  "
      ]
     },
     "execution_count": 153,
     "metadata": {},
     "output_type": "execute_result"
    }
   ],
   "source": [
    "# Calculating review length and word count\n",
    "process_reviews['Review_len'] = process_reviews['Review_content'].apply(len)\n",
    "process_reviews['Word_count'] = process_reviews['Review_content'].apply(lambda x: len(x.split()))\n",
    "\n",
    "process_reviews.head()"
   ]
  },
  {
   "cell_type": "markdown",
   "id": "b22a5a84",
   "metadata": {},
   "source": [
    "## <font color=\"red\">7.  Concentrating Review_title and Review_content</font>"
   ]
  },
  {
   "cell_type": "markdown",
   "id": "1f31d008",
   "metadata": {},
   "source": [
    "Concatenating Review_title and Review_content into a single text field can enhance sentiment analysis by combining all relevant information and simplifying preprocessing, feature extraction, and vectorization for a more efficient analysis process."
   ]
  },
  {
   "cell_type": "code",
   "execution_count": 154,
   "id": "d3e64bb0",
   "metadata": {},
   "outputs": [
    {
     "name": "stdout",
     "output_type": "stream",
     "text": [
      "Title: Doesn't do much .. But nothing works Without it.\n",
      "Content: I&apos;m not impressed with the blink system at all. It spends most of it&apos;s time offline and missing. Currently, I have 2 mini blinks ... which work the best - if they are plugged in. Currently, one is missing, and the other is often unplugged because it is annoying if someone is working in the backyard. We have 2 doorbells. One never seems to be working, but the front door at least rings through. I rarely get pictures from it anymore.\n",
      "\n",
      "We have 2 spotlights ... one requires the little white box to work that stores the pictures and uploads to the Blink plan ... however, if the white box fails, you have no way to contact or store the pictures. It&apos;s been ages since the white storage box quit working, and I can&apos;t find the replacement. My husband says he&apos;ll get around to installing the second spotlights, but he&apos;s been saying that for 2 years now.\n",
      "\n",
      "Overall, I would not recommend the blink as a system. I&apos;m torn between starting over with a ring system and trying to get the blink system working again. Super frustrated with the hidden costs and unreliability. When it works, it&apos;s nice ... though it is always delayed, so we never get faces or actions ... frequently it records backs as people leave or nothing at all, as the person has already gone.\n",
      "\n",
      "We got our first blink almost 5 years ago ... we got two mini blinks for our apartment. So we got doorbells when we got our own house, just over 2 years ago, since nobody could hear the knocking on the front door or garage door. They worked great for about 6 months.\n",
      "\n",
      "So, I&apos;m stuck. Can&apos;t hear the doorbell without the plan. The plan is super overpriced just to hear the doorbell.\n"
     ]
    }
   ],
   "source": [
    "# Checking Review_title and Review_content before concatenating\n",
    "print(f\"Title: {process_reviews.iloc[5]['Review_title']}\")\n",
    "print(f\"Content: {process_reviews.iloc[5]['Review_content']}\")"
   ]
  },
  {
   "cell_type": "code",
   "execution_count": 155,
   "id": "aac8bdf4",
   "metadata": {},
   "outputs": [
    {
     "data": {
      "text/html": [
       "<div>\n",
       "<style scoped>\n",
       "    .dataframe tbody tr th:only-of-type {\n",
       "        vertical-align: middle;\n",
       "    }\n",
       "\n",
       "    .dataframe tbody tr th {\n",
       "        vertical-align: top;\n",
       "    }\n",
       "\n",
       "    .dataframe thead th {\n",
       "        text-align: right;\n",
       "    }\n",
       "</style>\n",
       "<table border=\"1\" class=\"dataframe\">\n",
       "  <thead>\n",
       "    <tr style=\"text-align: right;\">\n",
       "      <th></th>\n",
       "      <th>Review_id</th>\n",
       "      <th>Reviewer</th>\n",
       "      <th>Rating</th>\n",
       "      <th>Date</th>\n",
       "      <th>Product_id</th>\n",
       "      <th>Product_title</th>\n",
       "      <th>Product_link</th>\n",
       "      <th>Review_len</th>\n",
       "      <th>Word_count</th>\n",
       "      <th>Full_review</th>\n",
       "    </tr>\n",
       "  </thead>\n",
       "  <tbody>\n",
       "    <tr>\n",
       "      <th>0</th>\n",
       "      <td>R192QJ45JRSLTC</td>\n",
       "      <td>Chris</td>\n",
       "      <td>5.0</td>\n",
       "      <td>13/07/2024</td>\n",
       "      <td>B08JHCVHTY</td>\n",
       "      <td>Blink Subscription Plus Plan with monthly auto...</td>\n",
       "      <td>https://www.amazon.com/Blink-Plus-Plan-monthly...</td>\n",
       "      <td>2558</td>\n",
       "      <td>356</td>\n",
       "      <td>Didn't think I needed it until I wish I had it...</td>\n",
       "    </tr>\n",
       "    <tr>\n",
       "      <th>1</th>\n",
       "      <td>RLJN0G2I0CRNC</td>\n",
       "      <td>Amazon Customer</td>\n",
       "      <td>5.0</td>\n",
       "      <td>2024-12-10 00:00:00</td>\n",
       "      <td>B08JHCVHTY</td>\n",
       "      <td>Blink Subscription Plus Plan with monthly auto...</td>\n",
       "      <td>https://www.amazon.com/Blink-Plus-Plan-monthly...</td>\n",
       "      <td>190</td>\n",
       "      <td>37</td>\n",
       "      <td>Worth every penny! I have had Blink cameras at...</td>\n",
       "    </tr>\n",
       "    <tr>\n",
       "      <th>2</th>\n",
       "      <td>R19D78F9YK0DVA</td>\n",
       "      <td>uniquely unique</td>\n",
       "      <td>5.0</td>\n",
       "      <td>2024-11-10 00:00:00</td>\n",
       "      <td>B08JHCVHTY</td>\n",
       "      <td>Blink Subscription Plus Plan with monthly auto...</td>\n",
       "      <td>https://www.amazon.com/Blink-Plus-Plan-monthly...</td>\n",
       "      <td>638</td>\n",
       "      <td>97</td>\n",
       "      <td>I’m quite satisfied I’ve been using the Blink ...</td>\n",
       "    </tr>\n",
       "    <tr>\n",
       "      <th>3</th>\n",
       "      <td>R2W7QUYHDCN6CB</td>\n",
       "      <td>Lyndi Dawn Macdonald</td>\n",
       "      <td>4.0</td>\n",
       "      <td>26/09/2024</td>\n",
       "      <td>B08JHCVHTY</td>\n",
       "      <td>Blink Subscription Plus Plan with monthly auto...</td>\n",
       "      <td>https://www.amazon.com/Blink-Plus-Plan-monthly...</td>\n",
       "      <td>996</td>\n",
       "      <td>189</td>\n",
       "      <td>Very Nice Added Security Really like having th...</td>\n",
       "    </tr>\n",
       "    <tr>\n",
       "      <th>4</th>\n",
       "      <td>RM9R0N4N310DC</td>\n",
       "      <td>ccoulson90</td>\n",
       "      <td>5.0</td>\n",
       "      <td>21/10/2024</td>\n",
       "      <td>B08JHCVHTY</td>\n",
       "      <td>Blink Subscription Plus Plan with monthly auto...</td>\n",
       "      <td>https://www.amazon.com/Blink-Plus-Plan-monthly...</td>\n",
       "      <td>766</td>\n",
       "      <td>114</td>\n",
       "      <td>Great Item The Blink Subscription Plus Plan is...</td>\n",
       "    </tr>\n",
       "  </tbody>\n",
       "</table>\n",
       "</div>"
      ],
      "text/plain": [
       "        Review_id              Reviewer  Rating                 Date  \\\n",
       "0  R192QJ45JRSLTC                 Chris     5.0           13/07/2024   \n",
       "1   RLJN0G2I0CRNC       Amazon Customer     5.0  2024-12-10 00:00:00   \n",
       "2  R19D78F9YK0DVA       uniquely unique     5.0  2024-11-10 00:00:00   \n",
       "3  R2W7QUYHDCN6CB  Lyndi Dawn Macdonald     4.0           26/09/2024   \n",
       "4   RM9R0N4N310DC            ccoulson90     5.0           21/10/2024   \n",
       "\n",
       "   Product_id                                      Product_title  \\\n",
       "0  B08JHCVHTY  Blink Subscription Plus Plan with monthly auto...   \n",
       "1  B08JHCVHTY  Blink Subscription Plus Plan with monthly auto...   \n",
       "2  B08JHCVHTY  Blink Subscription Plus Plan with monthly auto...   \n",
       "3  B08JHCVHTY  Blink Subscription Plus Plan with monthly auto...   \n",
       "4  B08JHCVHTY  Blink Subscription Plus Plan with monthly auto...   \n",
       "\n",
       "                                        Product_link  Review_len  Word_count  \\\n",
       "0  https://www.amazon.com/Blink-Plus-Plan-monthly...        2558         356   \n",
       "1  https://www.amazon.com/Blink-Plus-Plan-monthly...         190          37   \n",
       "2  https://www.amazon.com/Blink-Plus-Plan-monthly...         638          97   \n",
       "3  https://www.amazon.com/Blink-Plus-Plan-monthly...         996         189   \n",
       "4  https://www.amazon.com/Blink-Plus-Plan-monthly...         766         114   \n",
       "\n",
       "                                         Full_review  \n",
       "0  Didn't think I needed it until I wish I had it...  \n",
       "1  Worth every penny! I have had Blink cameras at...  \n",
       "2  I’m quite satisfied I’ve been using the Blink ...  \n",
       "3  Very Nice Added Security Really like having th...  \n",
       "4  Great Item The Blink Subscription Plus Plan is...  "
      ]
     },
     "execution_count": 155,
     "metadata": {},
     "output_type": "execute_result"
    }
   ],
   "source": [
    "# Concatenating 'Review_title' and 'Review_content' into a single column 'Full_review'\n",
    "process_reviews['Full_review'] = process_reviews[\"Review_title\"].astype(str) + ' ' + process_reviews['Review_content'].astype(str)\n",
    "\n",
    "# Dropping 'Review_title' and 'Review_content' columns\n",
    "process_reviews = process_reviews.drop(['Review_title', 'Review_content'], axis = 1)\n",
    "\n",
    "process_reviews.head()"
   ]
  },
  {
   "cell_type": "code",
   "execution_count": 156,
   "id": "5d4c3f38",
   "metadata": {},
   "outputs": [
    {
     "name": "stdout",
     "output_type": "stream",
     "text": [
      "Output review example:\n",
      "Doesn't do much .. But nothing works Without it. I&apos;m not impressed with the blink system at all. It spends most of it&apos;s time offline and missing. Currently, I have 2 mini blinks ... which work the best - if they are plugged in. Currently, one is missing, and the other is often unplugged because it is annoying if someone is working in the backyard. We have 2 doorbells. One never seems to be working, but the front door at least rings through. I rarely get pictures from it anymore.\n",
      "\n",
      "We have 2 spotlights ... one requires the little white box to work that stores the pictures and uploads to the Blink plan ... however, if the white box fails, you have no way to contact or store the pictures. It&apos;s been ages since the white storage box quit working, and I can&apos;t find the replacement. My husband says he&apos;ll get around to installing the second spotlights, but he&apos;s been saying that for 2 years now.\n",
      "\n",
      "Overall, I would not recommend the blink as a system. I&apos;m torn between starting over with a ring system and trying to get the blink system working again. Super frustrated with the hidden costs and unreliability. When it works, it&apos;s nice ... though it is always delayed, so we never get faces or actions ... frequently it records backs as people leave or nothing at all, as the person has already gone.\n",
      "\n",
      "We got our first blink almost 5 years ago ... we got two mini blinks for our apartment. So we got doorbells when we got our own house, just over 2 years ago, since nobody could hear the knocking on the front door or garage door. They worked great for about 6 months.\n",
      "\n",
      "So, I&apos;m stuck. Can&apos;t hear the doorbell without the plan. The plan is super overpriced just to hear the doorbell.\n"
     ]
    }
   ],
   "source": [
    "# Checking Fulling review after concatenating\n",
    "print('Output review example:')\n",
    "print(process_reviews.iloc[5]['Full_review'])"
   ]
  },
  {
   "cell_type": "markdown",
   "id": "ce67866c",
   "metadata": {},
   "source": [
    "## <font color=\"red\">8.  Creating 'Sentiment' Column</font>"
   ]
  },
  {
   "cell_type": "markdown",
   "id": "1bbe016c",
   "metadata": {},
   "source": [
    "In this preprocessing step, a sentiment column is created as the outcome variable, categorizing reviews based on their ratings: ratings greater than 3 indicate positive sentiment, ratings less than 3 indicate negative sentiment, and ratings equal to 3 are considered neutral."
   ]
  },
  {
   "cell_type": "code",
   "execution_count": 157,
   "id": "aa2f2c43",
   "metadata": {},
   "outputs": [
    {
     "data": {
      "text/plain": [
       "Rating\n",
       "5.0    5876\n",
       "3.0    4020\n",
       "4.0    2451\n",
       "2.0    2019\n",
       "1.0    1425\n",
       "Name: count, dtype: int64"
      ]
     },
     "execution_count": 157,
     "metadata": {},
     "output_type": "execute_result"
    }
   ],
   "source": [
    "# Counting the distribution of sentiments\n",
    "process_reviews['Rating'].value_counts()"
   ]
  },
  {
   "cell_type": "code",
   "execution_count": 158,
   "id": "05a21b69",
   "metadata": {},
   "outputs": [],
   "source": [
    "def sentiment_categorization(row):\n",
    "\n",
    "    ''' Assigns a sentiment value based on the user's rating.'''\n",
    "\n",
    "    if row['Rating'] < 3.0:\n",
    "        val = 'Negative'\n",
    "    elif row['Rating'] > 3.0:\n",
    "        val = 'Positive'\n",
    "    else:\n",
    "        val = 'Neutral'\n",
    "\n",
    "    return val"
   ]
  },
  {
   "cell_type": "code",
   "execution_count": 159,
   "id": "92412444",
   "metadata": {},
   "outputs": [
    {
     "data": {
      "text/html": [
       "<div>\n",
       "<style scoped>\n",
       "    .dataframe tbody tr th:only-of-type {\n",
       "        vertical-align: middle;\n",
       "    }\n",
       "\n",
       "    .dataframe tbody tr th {\n",
       "        vertical-align: top;\n",
       "    }\n",
       "\n",
       "    .dataframe thead th {\n",
       "        text-align: right;\n",
       "    }\n",
       "</style>\n",
       "<table border=\"1\" class=\"dataframe\">\n",
       "  <thead>\n",
       "    <tr style=\"text-align: right;\">\n",
       "      <th></th>\n",
       "      <th>Review_id</th>\n",
       "      <th>Reviewer</th>\n",
       "      <th>Rating</th>\n",
       "      <th>Date</th>\n",
       "      <th>Product_id</th>\n",
       "      <th>Product_title</th>\n",
       "      <th>Product_link</th>\n",
       "      <th>Review_len</th>\n",
       "      <th>Word_count</th>\n",
       "      <th>Full_review</th>\n",
       "      <th>Sentiment</th>\n",
       "    </tr>\n",
       "  </thead>\n",
       "  <tbody>\n",
       "    <tr>\n",
       "      <th>0</th>\n",
       "      <td>R192QJ45JRSLTC</td>\n",
       "      <td>Chris</td>\n",
       "      <td>5.0</td>\n",
       "      <td>13/07/2024</td>\n",
       "      <td>B08JHCVHTY</td>\n",
       "      <td>Blink Subscription Plus Plan with monthly auto...</td>\n",
       "      <td>https://www.amazon.com/Blink-Plus-Plan-monthly...</td>\n",
       "      <td>2558</td>\n",
       "      <td>356</td>\n",
       "      <td>Didn't think I needed it until I wish I had it...</td>\n",
       "      <td>Positive</td>\n",
       "    </tr>\n",
       "    <tr>\n",
       "      <th>1</th>\n",
       "      <td>RLJN0G2I0CRNC</td>\n",
       "      <td>Amazon Customer</td>\n",
       "      <td>5.0</td>\n",
       "      <td>2024-12-10 00:00:00</td>\n",
       "      <td>B08JHCVHTY</td>\n",
       "      <td>Blink Subscription Plus Plan with monthly auto...</td>\n",
       "      <td>https://www.amazon.com/Blink-Plus-Plan-monthly...</td>\n",
       "      <td>190</td>\n",
       "      <td>37</td>\n",
       "      <td>Worth every penny! I have had Blink cameras at...</td>\n",
       "      <td>Positive</td>\n",
       "    </tr>\n",
       "    <tr>\n",
       "      <th>2</th>\n",
       "      <td>R19D78F9YK0DVA</td>\n",
       "      <td>uniquely unique</td>\n",
       "      <td>5.0</td>\n",
       "      <td>2024-11-10 00:00:00</td>\n",
       "      <td>B08JHCVHTY</td>\n",
       "      <td>Blink Subscription Plus Plan with monthly auto...</td>\n",
       "      <td>https://www.amazon.com/Blink-Plus-Plan-monthly...</td>\n",
       "      <td>638</td>\n",
       "      <td>97</td>\n",
       "      <td>I’m quite satisfied I’ve been using the Blink ...</td>\n",
       "      <td>Positive</td>\n",
       "    </tr>\n",
       "    <tr>\n",
       "      <th>3</th>\n",
       "      <td>R2W7QUYHDCN6CB</td>\n",
       "      <td>Lyndi Dawn Macdonald</td>\n",
       "      <td>4.0</td>\n",
       "      <td>26/09/2024</td>\n",
       "      <td>B08JHCVHTY</td>\n",
       "      <td>Blink Subscription Plus Plan with monthly auto...</td>\n",
       "      <td>https://www.amazon.com/Blink-Plus-Plan-monthly...</td>\n",
       "      <td>996</td>\n",
       "      <td>189</td>\n",
       "      <td>Very Nice Added Security Really like having th...</td>\n",
       "      <td>Positive</td>\n",
       "    </tr>\n",
       "    <tr>\n",
       "      <th>4</th>\n",
       "      <td>RM9R0N4N310DC</td>\n",
       "      <td>ccoulson90</td>\n",
       "      <td>5.0</td>\n",
       "      <td>21/10/2024</td>\n",
       "      <td>B08JHCVHTY</td>\n",
       "      <td>Blink Subscription Plus Plan with monthly auto...</td>\n",
       "      <td>https://www.amazon.com/Blink-Plus-Plan-monthly...</td>\n",
       "      <td>766</td>\n",
       "      <td>114</td>\n",
       "      <td>Great Item The Blink Subscription Plus Plan is...</td>\n",
       "      <td>Positive</td>\n",
       "    </tr>\n",
       "  </tbody>\n",
       "</table>\n",
       "</div>"
      ],
      "text/plain": [
       "        Review_id              Reviewer  Rating                 Date  \\\n",
       "0  R192QJ45JRSLTC                 Chris     5.0           13/07/2024   \n",
       "1   RLJN0G2I0CRNC       Amazon Customer     5.0  2024-12-10 00:00:00   \n",
       "2  R19D78F9YK0DVA       uniquely unique     5.0  2024-11-10 00:00:00   \n",
       "3  R2W7QUYHDCN6CB  Lyndi Dawn Macdonald     4.0           26/09/2024   \n",
       "4   RM9R0N4N310DC            ccoulson90     5.0           21/10/2024   \n",
       "\n",
       "   Product_id                                      Product_title  \\\n",
       "0  B08JHCVHTY  Blink Subscription Plus Plan with monthly auto...   \n",
       "1  B08JHCVHTY  Blink Subscription Plus Plan with monthly auto...   \n",
       "2  B08JHCVHTY  Blink Subscription Plus Plan with monthly auto...   \n",
       "3  B08JHCVHTY  Blink Subscription Plus Plan with monthly auto...   \n",
       "4  B08JHCVHTY  Blink Subscription Plus Plan with monthly auto...   \n",
       "\n",
       "                                        Product_link  Review_len  Word_count  \\\n",
       "0  https://www.amazon.com/Blink-Plus-Plan-monthly...        2558         356   \n",
       "1  https://www.amazon.com/Blink-Plus-Plan-monthly...         190          37   \n",
       "2  https://www.amazon.com/Blink-Plus-Plan-monthly...         638          97   \n",
       "3  https://www.amazon.com/Blink-Plus-Plan-monthly...         996         189   \n",
       "4  https://www.amazon.com/Blink-Plus-Plan-monthly...         766         114   \n",
       "\n",
       "                                         Full_review Sentiment  \n",
       "0  Didn't think I needed it until I wish I had it...  Positive  \n",
       "1  Worth every penny! I have had Blink cameras at...  Positive  \n",
       "2  I’m quite satisfied I’ve been using the Blink ...  Positive  \n",
       "3  Very Nice Added Security Really like having th...  Positive  \n",
       "4  Great Item The Blink Subscription Plus Plan is...  Positive  "
      ]
     },
     "execution_count": 159,
     "metadata": {},
     "output_type": "execute_result"
    }
   ],
   "source": [
    "# Applying the function to create the 'Sentiment' column\n",
    "process_reviews['Sentiment'] = process_reviews.apply(sentiment_categorization, axis=1)\n",
    "process_reviews.head()"
   ]
  },
  {
   "cell_type": "code",
   "execution_count": 160,
   "id": "a67961aa",
   "metadata": {},
   "outputs": [
    {
     "data": {
      "text/plain": [
       "Sentiment\n",
       "Positive    8327\n",
       "Neutral     4020\n",
       "Negative    3444\n",
       "Name: count, dtype: int64"
      ]
     },
     "execution_count": 160,
     "metadata": {},
     "output_type": "execute_result"
    }
   ],
   "source": [
    "process_reviews['Sentiment'].value_counts()"
   ]
  },
  {
   "cell_type": "markdown",
   "id": "dd9df66d",
   "metadata": {},
   "source": [
    "## <font color=\"red\">9.  Handling 'Date' Column</font>"
   ]
  },
  {
   "cell_type": "markdown",
   "id": "856d07fa",
   "metadata": {},
   "source": [
    "The Date column in the dataset includes both the review date and year in a combined format. To enhance time-based analysis, this column will be split into separate components: year, month, and day. <br>This approach allows for deeper insights, such as identifying seasonal trends or changes in sentiment over time."
   ]
  },
  {
   "cell_type": "code",
   "execution_count": 161,
   "id": "b5428701",
   "metadata": {},
   "outputs": [
    {
     "name": "stdout",
     "output_type": "stream",
     "text": [
      "Rows with unconvertible dates: 0\n"
     ]
    },
    {
     "data": {
      "text/html": [
       "<div>\n",
       "<style scoped>\n",
       "    .dataframe tbody tr th:only-of-type {\n",
       "        vertical-align: middle;\n",
       "    }\n",
       "\n",
       "    .dataframe tbody tr th {\n",
       "        vertical-align: top;\n",
       "    }\n",
       "\n",
       "    .dataframe thead th {\n",
       "        text-align: right;\n",
       "    }\n",
       "</style>\n",
       "<table border=\"1\" class=\"dataframe\">\n",
       "  <thead>\n",
       "    <tr style=\"text-align: right;\">\n",
       "      <th></th>\n",
       "      <th>Review_id</th>\n",
       "      <th>Reviewer</th>\n",
       "      <th>Rating</th>\n",
       "      <th>Product_id</th>\n",
       "      <th>Product_title</th>\n",
       "      <th>Product_link</th>\n",
       "      <th>Review_len</th>\n",
       "      <th>Word_count</th>\n",
       "      <th>Full_review</th>\n",
       "      <th>Sentiment</th>\n",
       "      <th>Day</th>\n",
       "      <th>Month</th>\n",
       "      <th>Year</th>\n",
       "    </tr>\n",
       "  </thead>\n",
       "  <tbody>\n",
       "    <tr>\n",
       "      <th>0</th>\n",
       "      <td>R192QJ45JRSLTC</td>\n",
       "      <td>Chris</td>\n",
       "      <td>5.0</td>\n",
       "      <td>B08JHCVHTY</td>\n",
       "      <td>Blink Subscription Plus Plan with monthly auto...</td>\n",
       "      <td>https://www.amazon.com/Blink-Plus-Plan-monthly...</td>\n",
       "      <td>2558</td>\n",
       "      <td>356</td>\n",
       "      <td>Didn't think I needed it until I wish I had it...</td>\n",
       "      <td>Positive</td>\n",
       "      <td>13</td>\n",
       "      <td>7</td>\n",
       "      <td>2024</td>\n",
       "    </tr>\n",
       "    <tr>\n",
       "      <th>1</th>\n",
       "      <td>RLJN0G2I0CRNC</td>\n",
       "      <td>Amazon Customer</td>\n",
       "      <td>5.0</td>\n",
       "      <td>B08JHCVHTY</td>\n",
       "      <td>Blink Subscription Plus Plan with monthly auto...</td>\n",
       "      <td>https://www.amazon.com/Blink-Plus-Plan-monthly...</td>\n",
       "      <td>190</td>\n",
       "      <td>37</td>\n",
       "      <td>Worth every penny! I have had Blink cameras at...</td>\n",
       "      <td>Positive</td>\n",
       "      <td>10</td>\n",
       "      <td>12</td>\n",
       "      <td>2024</td>\n",
       "    </tr>\n",
       "    <tr>\n",
       "      <th>2</th>\n",
       "      <td>R19D78F9YK0DVA</td>\n",
       "      <td>uniquely unique</td>\n",
       "      <td>5.0</td>\n",
       "      <td>B08JHCVHTY</td>\n",
       "      <td>Blink Subscription Plus Plan with monthly auto...</td>\n",
       "      <td>https://www.amazon.com/Blink-Plus-Plan-monthly...</td>\n",
       "      <td>638</td>\n",
       "      <td>97</td>\n",
       "      <td>I’m quite satisfied I’ve been using the Blink ...</td>\n",
       "      <td>Positive</td>\n",
       "      <td>10</td>\n",
       "      <td>11</td>\n",
       "      <td>2024</td>\n",
       "    </tr>\n",
       "    <tr>\n",
       "      <th>3</th>\n",
       "      <td>R2W7QUYHDCN6CB</td>\n",
       "      <td>Lyndi Dawn Macdonald</td>\n",
       "      <td>4.0</td>\n",
       "      <td>B08JHCVHTY</td>\n",
       "      <td>Blink Subscription Plus Plan with monthly auto...</td>\n",
       "      <td>https://www.amazon.com/Blink-Plus-Plan-monthly...</td>\n",
       "      <td>996</td>\n",
       "      <td>189</td>\n",
       "      <td>Very Nice Added Security Really like having th...</td>\n",
       "      <td>Positive</td>\n",
       "      <td>26</td>\n",
       "      <td>9</td>\n",
       "      <td>2024</td>\n",
       "    </tr>\n",
       "    <tr>\n",
       "      <th>4</th>\n",
       "      <td>RM9R0N4N310DC</td>\n",
       "      <td>ccoulson90</td>\n",
       "      <td>5.0</td>\n",
       "      <td>B08JHCVHTY</td>\n",
       "      <td>Blink Subscription Plus Plan with monthly auto...</td>\n",
       "      <td>https://www.amazon.com/Blink-Plus-Plan-monthly...</td>\n",
       "      <td>766</td>\n",
       "      <td>114</td>\n",
       "      <td>Great Item The Blink Subscription Plus Plan is...</td>\n",
       "      <td>Positive</td>\n",
       "      <td>21</td>\n",
       "      <td>10</td>\n",
       "      <td>2024</td>\n",
       "    </tr>\n",
       "  </tbody>\n",
       "</table>\n",
       "</div>"
      ],
      "text/plain": [
       "        Review_id              Reviewer  Rating  Product_id  \\\n",
       "0  R192QJ45JRSLTC                 Chris     5.0  B08JHCVHTY   \n",
       "1   RLJN0G2I0CRNC       Amazon Customer     5.0  B08JHCVHTY   \n",
       "2  R19D78F9YK0DVA       uniquely unique     5.0  B08JHCVHTY   \n",
       "3  R2W7QUYHDCN6CB  Lyndi Dawn Macdonald     4.0  B08JHCVHTY   \n",
       "4   RM9R0N4N310DC            ccoulson90     5.0  B08JHCVHTY   \n",
       "\n",
       "                                       Product_title  \\\n",
       "0  Blink Subscription Plus Plan with monthly auto...   \n",
       "1  Blink Subscription Plus Plan with monthly auto...   \n",
       "2  Blink Subscription Plus Plan with monthly auto...   \n",
       "3  Blink Subscription Plus Plan with monthly auto...   \n",
       "4  Blink Subscription Plus Plan with monthly auto...   \n",
       "\n",
       "                                        Product_link  Review_len  Word_count  \\\n",
       "0  https://www.amazon.com/Blink-Plus-Plan-monthly...        2558         356   \n",
       "1  https://www.amazon.com/Blink-Plus-Plan-monthly...         190          37   \n",
       "2  https://www.amazon.com/Blink-Plus-Plan-monthly...         638          97   \n",
       "3  https://www.amazon.com/Blink-Plus-Plan-monthly...         996         189   \n",
       "4  https://www.amazon.com/Blink-Plus-Plan-monthly...         766         114   \n",
       "\n",
       "                                         Full_review Sentiment  Day  Month  \\\n",
       "0  Didn't think I needed it until I wish I had it...  Positive   13      7   \n",
       "1  Worth every penny! I have had Blink cameras at...  Positive   10     12   \n",
       "2  I’m quite satisfied I’ve been using the Blink ...  Positive   10     11   \n",
       "3  Very Nice Added Security Really like having th...  Positive   26      9   \n",
       "4  Great Item The Blink Subscription Plus Plan is...  Positive   21     10   \n",
       "\n",
       "   Year  \n",
       "0  2024  \n",
       "1  2024  \n",
       "2  2024  \n",
       "3  2024  \n",
       "4  2024  "
      ]
     },
     "execution_count": 161,
     "metadata": {},
     "output_type": "execute_result"
    }
   ],
   "source": [
    "# Try to parse the 'Date' column, accounting for mixed formats\n",
    "process_reviews['Date'] = pd.to_datetime(\n",
    "    process_reviews['Date'], \n",
    "    errors='coerce', \n",
    "    dayfirst=True\n",
    ")\n",
    "\n",
    "# Extracting day, month, and year as separate columns\n",
    "process_reviews['Day'] = process_reviews['Date'].dt.day\n",
    "process_reviews['Month'] = process_reviews['Date'].dt.month\n",
    "process_reviews['Year'] = process_reviews['Date'].dt.year\n",
    "\n",
    "# Handle rows where 'Date' conversion failed\n",
    "missing_date_conversion = process_reviews[process_reviews['Date'].isnull()]\n",
    "print(f\"Rows with unconvertible dates: {len(missing_date_conversion)}\")\n",
    "\n",
    "process_reviews = process_reviews.drop(['Date'], axis=1)\n",
    "process_reviews.head()"
   ]
  },
  {
   "cell_type": "markdown",
   "id": "c500f694",
   "metadata": {},
   "source": [
    "## <font color=\"red\">10.  Removing Unnecessary Columns</font>"
   ]
  },
  {
   "cell_type": "code",
   "execution_count": 162,
   "id": "66264b3e",
   "metadata": {},
   "outputs": [
    {
     "data": {
      "text/html": [
       "<div>\n",
       "<style scoped>\n",
       "    .dataframe tbody tr th:only-of-type {\n",
       "        vertical-align: middle;\n",
       "    }\n",
       "\n",
       "    .dataframe tbody tr th {\n",
       "        vertical-align: top;\n",
       "    }\n",
       "\n",
       "    .dataframe thead th {\n",
       "        text-align: right;\n",
       "    }\n",
       "</style>\n",
       "<table border=\"1\" class=\"dataframe\">\n",
       "  <thead>\n",
       "    <tr style=\"text-align: right;\">\n",
       "      <th></th>\n",
       "      <th>Review_id</th>\n",
       "      <th>Rating</th>\n",
       "      <th>Product_id</th>\n",
       "      <th>Review_len</th>\n",
       "      <th>Word_count</th>\n",
       "      <th>Full_review</th>\n",
       "      <th>Sentiment</th>\n",
       "      <th>Day</th>\n",
       "      <th>Month</th>\n",
       "      <th>Year</th>\n",
       "    </tr>\n",
       "  </thead>\n",
       "  <tbody>\n",
       "    <tr>\n",
       "      <th>0</th>\n",
       "      <td>R192QJ45JRSLTC</td>\n",
       "      <td>5.0</td>\n",
       "      <td>B08JHCVHTY</td>\n",
       "      <td>2558</td>\n",
       "      <td>356</td>\n",
       "      <td>Didn't think I needed it until I wish I had it...</td>\n",
       "      <td>Positive</td>\n",
       "      <td>13</td>\n",
       "      <td>7</td>\n",
       "      <td>2024</td>\n",
       "    </tr>\n",
       "    <tr>\n",
       "      <th>1</th>\n",
       "      <td>RLJN0G2I0CRNC</td>\n",
       "      <td>5.0</td>\n",
       "      <td>B08JHCVHTY</td>\n",
       "      <td>190</td>\n",
       "      <td>37</td>\n",
       "      <td>Worth every penny! I have had Blink cameras at...</td>\n",
       "      <td>Positive</td>\n",
       "      <td>10</td>\n",
       "      <td>12</td>\n",
       "      <td>2024</td>\n",
       "    </tr>\n",
       "    <tr>\n",
       "      <th>2</th>\n",
       "      <td>R19D78F9YK0DVA</td>\n",
       "      <td>5.0</td>\n",
       "      <td>B08JHCVHTY</td>\n",
       "      <td>638</td>\n",
       "      <td>97</td>\n",
       "      <td>I’m quite satisfied I’ve been using the Blink ...</td>\n",
       "      <td>Positive</td>\n",
       "      <td>10</td>\n",
       "      <td>11</td>\n",
       "      <td>2024</td>\n",
       "    </tr>\n",
       "    <tr>\n",
       "      <th>3</th>\n",
       "      <td>R2W7QUYHDCN6CB</td>\n",
       "      <td>4.0</td>\n",
       "      <td>B08JHCVHTY</td>\n",
       "      <td>996</td>\n",
       "      <td>189</td>\n",
       "      <td>Very Nice Added Security Really like having th...</td>\n",
       "      <td>Positive</td>\n",
       "      <td>26</td>\n",
       "      <td>9</td>\n",
       "      <td>2024</td>\n",
       "    </tr>\n",
       "    <tr>\n",
       "      <th>4</th>\n",
       "      <td>RM9R0N4N310DC</td>\n",
       "      <td>5.0</td>\n",
       "      <td>B08JHCVHTY</td>\n",
       "      <td>766</td>\n",
       "      <td>114</td>\n",
       "      <td>Great Item The Blink Subscription Plus Plan is...</td>\n",
       "      <td>Positive</td>\n",
       "      <td>21</td>\n",
       "      <td>10</td>\n",
       "      <td>2024</td>\n",
       "    </tr>\n",
       "  </tbody>\n",
       "</table>\n",
       "</div>"
      ],
      "text/plain": [
       "        Review_id  Rating  Product_id  Review_len  Word_count  \\\n",
       "0  R192QJ45JRSLTC     5.0  B08JHCVHTY        2558         356   \n",
       "1   RLJN0G2I0CRNC     5.0  B08JHCVHTY         190          37   \n",
       "2  R19D78F9YK0DVA     5.0  B08JHCVHTY         638          97   \n",
       "3  R2W7QUYHDCN6CB     4.0  B08JHCVHTY         996         189   \n",
       "4   RM9R0N4N310DC     5.0  B08JHCVHTY         766         114   \n",
       "\n",
       "                                         Full_review Sentiment  Day  Month  \\\n",
       "0  Didn't think I needed it until I wish I had it...  Positive   13      7   \n",
       "1  Worth every penny! I have had Blink cameras at...  Positive   10     12   \n",
       "2  I’m quite satisfied I’ve been using the Blink ...  Positive   10     11   \n",
       "3  Very Nice Added Security Really like having th...  Positive   26      9   \n",
       "4  Great Item The Blink Subscription Plus Plan is...  Positive   21     10   \n",
       "\n",
       "   Year  \n",
       "0  2024  \n",
       "1  2024  \n",
       "2  2024  \n",
       "3  2024  \n",
       "4  2024  "
      ]
     },
     "execution_count": 162,
     "metadata": {},
     "output_type": "execute_result"
    }
   ],
   "source": [
    "process_reviews = process_reviews.drop(['Reviewer', 'Product_title', 'Product_link'], axis = 1)\n",
    "\n",
    "process_reviews.head()"
   ]
  },
  {
   "cell_type": "markdown",
   "id": "4aa8d663",
   "metadata": {},
   "source": [
    "## <font color=\"red\">11.  Text Pre-Processing</font>"
   ]
  },
  {
   "cell_type": "markdown",
   "id": "9360558d",
   "metadata": {},
   "source": [
    "### <font color=\"red\">1.  Converting Reviews to Lower Case</font>"
   ]
  },
  {
   "cell_type": "markdown",
   "id": "54e72dc1",
   "metadata": {},
   "source": [
    "Converting all text to lowercase reduces case sensitivity and ensures that words are treated uniformly."
   ]
  },
  {
   "cell_type": "code",
   "execution_count": 163,
   "id": "be3f4da4",
   "metadata": {},
   "outputs": [
    {
     "name": "stdout",
     "output_type": "stream",
     "text": [
      "Output review example:\n",
      "doesn't do much .. but nothing works without it. i&apos;m not impressed with the blink system at all. it spends most of it&apos;s time offline and missing. currently, i have 2 mini blinks ... which work the best - if they are plugged in. currently, one is missing, and the other is often unplugged because it is annoying if someone is working in the backyard. we have 2 doorbells. one never seems to be working, but the front door at least rings through. i rarely get pictures from it anymore.\n",
      "\n",
      "we have 2 spotlights ... one requires the little white box to work that stores the pictures and uploads to the blink plan ... however, if the white box fails, you have no way to contact or store the pictures. it&apos;s been ages since the white storage box quit working, and i can&apos;t find the replacement. my husband says he&apos;ll get around to installing the second spotlights, but he&apos;s been saying that for 2 years now.\n",
      "\n",
      "overall, i would not recommend the blink as a system. i&apos;m torn between starting over with a ring system and trying to get the blink system working again. super frustrated with the hidden costs and unreliability. when it works, it&apos;s nice ... though it is always delayed, so we never get faces or actions ... frequently it records backs as people leave or nothing at all, as the person has already gone.\n",
      "\n",
      "we got our first blink almost 5 years ago ... we got two mini blinks for our apartment. so we got doorbells when we got our own house, just over 2 years ago, since nobody could hear the knocking on the front door or garage door. they worked great for about 6 months.\n",
      "\n",
      "so, i&apos;m stuck. can&apos;t hear the doorbell without the plan. the plan is super overpriced just to hear the doorbell.\n"
     ]
    }
   ],
   "source": [
    "process_reviews['Full_review'] = process_reviews['Full_review'].str.lower()\n",
    "\n",
    "print('Output review example:')\n",
    "print(process_reviews.iloc[5]['Full_review'])"
   ]
  },
  {
   "cell_type": "markdown",
   "id": "d6d625e2",
   "metadata": {},
   "source": [
    "### <font color=\"red\">2.  Decoding HTML Entities</font>"
   ]
  },
  {
   "cell_type": "markdown",
   "id": "a3bf8961",
   "metadata": {},
   "source": [
    "HTML entities are special codes used to represent characters that may not display correctly in HTML, such as the apostrophe (&#39;) and en dash (&#8211;). These entities appear in text scraped from web pages because HTML parsers often use them to represent non-ASCII characters. For example, \"&#39;\" represents an apostrophe, while \"&#8211;\" represents an en dash.\n",
    "\n",
    "The html library in Python provides a function called html.unescape() that converts HTML entities to their readable text equivalents."
   ]
  },
  {
   "cell_type": "code",
   "execution_count": 164,
   "id": "4be4f3a5",
   "metadata": {},
   "outputs": [
    {
     "name": "stdout",
     "output_type": "stream",
     "text": [
      "doesn't do much .. but nothing works without it. i'm not impressed with the blink system at all. it spends most of it's time offline and missing. currently, i have 2 mini blinks ... which work the best - if they are plugged in. currently, one is missing, and the other is often unplugged because it is annoying if someone is working in the backyard. we have 2 doorbells. one never seems to be working, but the front door at least rings through. i rarely get pictures from it anymore.\n",
      "\n",
      "we have 2 spotlights ... one requires the little white box to work that stores the pictures and uploads to the blink plan ... however, if the white box fails, you have no way to contact or store the pictures. it's been ages since the white storage box quit working, and i can't find the replacement. my husband says he'll get around to installing the second spotlights, but he's been saying that for 2 years now.\n",
      "\n",
      "overall, i would not recommend the blink as a system. i'm torn between starting over with a ring system and trying to get the blink system working again. super frustrated with the hidden costs and unreliability. when it works, it's nice ... though it is always delayed, so we never get faces or actions ... frequently it records backs as people leave or nothing at all, as the person has already gone.\n",
      "\n",
      "we got our first blink almost 5 years ago ... we got two mini blinks for our apartment. so we got doorbells when we got our own house, just over 2 years ago, since nobody could hear the knocking on the front door or garage door. they worked great for about 6 months.\n",
      "\n",
      "so, i'm stuck. can't hear the doorbell without the plan. the plan is super overpriced just to hear the doorbell.\n"
     ]
    }
   ],
   "source": [
    "# Decode HTML entities in the 'text' column\n",
    "process_reviews['Full_review'] = process_reviews['Full_review'].apply(html.unescape)\n",
    "\n",
    "# Display a review example\n",
    "print(process_reviews.iloc[5]['Full_review'])"
   ]
  },
  {
   "cell_type": "markdown",
   "id": "5bb884bb",
   "metadata": {},
   "source": [
    "### <font color=\"red\">3.  Expanding Contractions</font>"
   ]
  },
  {
   "cell_type": "markdown",
   "id": "6d041be7",
   "metadata": {},
   "source": [
    "Expanding contractions involves converting shortened phrases like \"I'll\" and \"can't\" into their full forms (\"I will\" and \"cannot\"). <br>\n",
    "By expanding contractions first, the project maintains clarity and preserves meaning, preventing issues where removing the apostrophe might turn \"I'll\" into \"ill\" or \"y'all\" into \"yall,\" which can confuse the lemmatizer. <br>\n",
    "This ensures that subsequent steps, such as lemmatization, can interpret the text accurately and maintain the original sentiment."
   ]
  },
  {
   "cell_type": "code",
   "execution_count": 165,
   "id": "7e4a0f5b",
   "metadata": {},
   "outputs": [
    {
     "name": "stdout",
     "output_type": "stream",
     "text": [
      "does not do much .. but nothing works without it. i am not impressed with the blink system at all. it spends most of it is time offline and missing. currently, i have 2 mini blinks ... which work the best - if they are plugged in. currently, one is missing, and the other is often unplugged because it is annoying if someone is working in the backyard. we have 2 doorbells. one never seems to be working, but the front door at least rings through. i rarely get pictures from it anymore.\n",
      "\n",
      "we have 2 spotlights ... one requires the little white box to work that stores the pictures and uploads to the blink plan ... however, if the white box fails, you have no way to contact or store the pictures. it is been ages since the white storage box quit working, and i cannot find the replacement. my husband says he will get around to installing the second spotlights, but he is been saying that for 2 years now.\n",
      "\n",
      "overall, i would not recommend the blink as a system. i am torn between starting over with a ring system and trying to get the blink system working again. super frustrated with the hidden costs and unreliability. when it works, it is nice ... though it is always delayed, so we never get faces or actions ... frequently it records backs as people leave or nothing at all, as the person has already gone.\n",
      "\n",
      "we got our first blink almost 5 years ago ... we got two mini blinks for our apartment. so we got doorbells when we got our own house, just over 2 years ago, since nobody could hear the knocking on the front door or garage door. they worked great for about 6 months.\n",
      "\n",
      "so, i am stuck. cannot hear the doorbell without the plan. the plan is super overpriced just to hear the doorbell.\n"
     ]
    }
   ],
   "source": [
    "# Expand contractions in the 'Full_review' column\n",
    "process_reviews['Full_review'] = process_reviews['Full_review'].apply(contractions.fix)\n",
    "\n",
    "# Display a review example\n",
    "print(process_reviews.iloc[5]['Full_review'])"
   ]
  },
  {
   "cell_type": "markdown",
   "id": "55c30995",
   "metadata": {},
   "source": [
    "### <font color=\"red\">4.  Tokenization & Lemmatization</font>"
   ]
  },
  {
   "cell_type": "markdown",
   "id": "be409323",
   "metadata": {},
   "source": [
    "Stemming and lemmatization are two common techniques in natural language processing (NLP) for reducing words to their base or root forms. Both are used to simplify text data, helping models understand words with similar meanings as the same concept. However, they differ in their methods and the precision of their output.<br>\n",
    "- Stemming removes common endings like \"ing,\" \"es,\" or \"ed\" to shorten words, often producing forms that aren’t real words (e.g., \"running\" becomes \"runn\"). It’s fast and efficient but less accurate because it doesn’t consider grammar or context.\n",
    "- Lemmatization reduces words to their dictionary base form by using vocabulary and part-of-speech (POS) tagging. It produces valid words adjusted for context, so \"better\" becomes \"good\" when used as an adjective. Though slower, it’s more precise because it considers grammar, making it ideal for applications needing higher accuracy.\n",
    "\n",
    "\n",
    "\n"
   ]
  },
  {
   "cell_type": "markdown",
   "id": "0e51f366",
   "metadata": {},
   "source": [
    "This step combines tokenization and lemmatization with part-of-speech (POS) tagging to standardize each review. Tokenizing each sentence and then lemmatizing each word based on its POS tag accurately reduces words to their base form while considering grammatical roles. <br>\n",
    "The WordNetLemmatizer from the Natural Language Toolkit (NLTK) is used for lemmatization. Since lemmatization depends on sentence structure to understand context, part-of-speech tags are necessary for each word.\n",
    "\n",
    "Explanation\n",
    "- Tokenization: Each review is first split into individual words (tokens), allowing for separate processing of each word.\n",
    "- POS Tagging: Each token is assigned a part-of-speech tag (e.g., noun, verb, adjective), helping determine its correct base form for lemmatization.\n",
    "- Lemmatization with POS: By applying POS-specific lemmatization, words are converted to their root form accurately (e.g., \"running\" to \"run\" if tagged as a verb), preserving the correct meaning and grammatical structure."
   ]
  },
  {
   "cell_type": "code",
   "execution_count": 166,
   "id": "594de404",
   "metadata": {},
   "outputs": [
    {
     "name": "stdout",
     "output_type": "stream",
     "text": [
      "Output review example:\n",
      "do not do much .. but nothing work without it . i be not impress with the blink system at all . it spend most of it be time offline and miss . currently , i have 2 mini blink ... which work the best - if they be plug in . currently , one be miss , and the other be often unplugged because it be annoy if someone be work in the backyard . we have 2 doorbell . one never seem to be work , but the front door at least ring through . i rarely get picture from it anymore . we have 2 spotlight ... one require the little white box to work that store the picture and uploads to the blink plan ... however , if the white box fails , you have no way to contact or store the picture . it be be age since the white storage box quit working , and i can not find the replacement . my husband say he will get around to instal the second spotlight , but he be be say that for 2 year now . overall , i would not recommend the blink a a system . i be tear between start over with a ring system and try to get the blink system work again . super frustrate with the hidden cost and unreliability . when it work , it be nice ... though it be always delay , so we never get face or action ... frequently it record back a people leave or nothing at all , a the person have already go . we get our first blink almost 5 year ago ... we get two mini blink for our apartment . so we get doorbell when we get our own house , just over 2 year ago , since nobody could hear the knocking on the front door or garage door . they work great for about 6 month . so , i be stick . can not hear the doorbell without the plan . the plan be super overprice just to hear the doorbell .\n"
     ]
    }
   ],
   "source": [
    "# Initialize lemmatizer\n",
    "lemmatizer = WordNetLemmatizer()\n",
    "\n",
    "# Function to convert NLTK POS tags to WordNet POS tags\n",
    "def get_wordnet_pos(tag):\n",
    "    if tag.startswith('J'):\n",
    "        return wordnet.ADJ\n",
    "    elif tag.startswith('V'):\n",
    "        return wordnet.VERB\n",
    "    elif tag.startswith('N'):\n",
    "        return wordnet.NOUN\n",
    "    elif tag.startswith('R'):\n",
    "        return wordnet.ADV\n",
    "    else:\n",
    "        return wordnet.NOUN  # Default to noun if POS tag is unknown\n",
    "\n",
    "# Function to tokenize, remove punctuation marks and lemmatize with POS tagging\n",
    "def tokenize_and_lemmatize(text):\n",
    "    \n",
    "    # Step 1: Tokenize the text\n",
    "    tokens = word_tokenize(text)\n",
    "    \n",
    "    # Step 2: Get POS tags for each token\n",
    "    pos_tags = pos_tag(tokens)\n",
    "    \n",
    "    # Step 3: Lemmatize each token based on its POS tag\n",
    "    lemmatized_tokens = [lemmatizer.lemmatize(token, get_wordnet_pos(tag)) for token, tag in pos_tags]\n",
    "\n",
    "    # Lemmatize each token as a noun (default behavior without specifying POS)\n",
    "    #lemmatized_tokens = [lemmatizer.lemmatize(token) for token in tokens]\n",
    "    \n",
    "    return \" \".join(lemmatized_tokens)\n",
    "\n",
    "# Apply the function to the 'Full_review' column\n",
    "process_reviews['Full_review'] = process_reviews['Full_review'].apply(tokenize_and_lemmatize)\n",
    "\n",
    "print('Output review example:')\n",
    "print(process_reviews.iloc[5]['Full_review'])"
   ]
  },
  {
   "cell_type": "markdown",
   "id": "4f0cb197",
   "metadata": {},
   "source": [
    "### <font color=\"red\">5.  Removing Extra Whitespace</font>"
   ]
  },
  {
   "cell_type": "markdown",
   "id": "c8e9d16a",
   "metadata": {},
   "source": [
    "Removing extra whitespace is generally a helpful step in text preprocessing. Extra whitespace can create unintended tokens or affect character counts, potentially adding noise to the data.\n",
    "This step will remove any leading, trailing, or excessive spaces within each review in the 'Full_review' column."
   ]
  },
  {
   "cell_type": "code",
   "execution_count": 167,
   "id": "b0600be1",
   "metadata": {},
   "outputs": [
    {
     "name": "stdout",
     "output_type": "stream",
     "text": [
      "Output review example:\n",
      "do not do much .. but nothing work without it . i be not impress with the blink system at all . it spend most of it be time offline and miss . currently , i have 2 mini blink ... which work the best - if they be plug in . currently , one be miss , and the other be often unplugged because it be annoy if someone be work in the backyard . we have 2 doorbell . one never seem to be work , but the front door at least ring through . i rarely get picture from it anymore . we have 2 spotlight ... one require the little white box to work that store the picture and uploads to the blink plan ... however , if the white box fails , you have no way to contact or store the picture . it be be age since the white storage box quit working , and i can not find the replacement . my husband say he will get around to instal the second spotlight , but he be be say that for 2 year now . overall , i would not recommend the blink a a system . i be tear between start over with a ring system and try to get the blink system work again . super frustrate with the hidden cost and unreliability . when it work , it be nice ... though it be always delay , so we never get face or action ... frequently it record back a people leave or nothing at all , a the person have already go . we get our first blink almost 5 year ago ... we get two mini blink for our apartment . so we get doorbell when we get our own house , just over 2 year ago , since nobody could hear the knocking on the front door or garage door . they work great for about 6 month . so , i be stick . can not hear the doorbell without the plan . the plan be super overprice just to hear the doorbell .\n"
     ]
    }
   ],
   "source": [
    "process_reviews['Full_review'] = process_reviews['Full_review'].apply(lambda x: \" \".join(x.split()))\n",
    "\n",
    "print('Output review example:')\n",
    "print(process_reviews.iloc[5]['Full_review'])"
   ]
  },
  {
   "cell_type": "markdown",
   "id": "fed1301e",
   "metadata": {},
   "source": [
    "### <font color=\"red\">6.  Removing Punctuation</font>"
   ]
  },
  {
   "cell_type": "markdown",
   "id": "1e68e65f",
   "metadata": {},
   "source": [
    " Punctuation marks are symbols used in writing to clarify meaning, separate sentences, and organize text. <br>\n",
    " Eliminating punctuation improves consistency, as punctuation marks are typically irrelevant in sentiment analysis."
   ]
  },
  {
   "cell_type": "code",
   "execution_count": 168,
   "id": "3fd1802d",
   "metadata": {},
   "outputs": [
    {
     "name": "stdout",
     "output_type": "stream",
     "text": [
      "Output review example:\n",
      "do not do much  but nothing work without it  i be not impress with the blink system at all  it spend most of it be time offline and miss  currently  i have 2 mini blink  which work the best  if they be plug in  currently  one be miss  and the other be often unplugged because it be annoy if someone be work in the backyard  we have 2 doorbell  one never seem to be work  but the front door at least ring through  i rarely get picture from it anymore  we have 2 spotlight  one require the little white box to work that store the picture and uploads to the blink plan  however  if the white box fails  you have no way to contact or store the picture  it be be age since the white storage box quit working  and i can not find the replacement  my husband say he will get around to instal the second spotlight  but he be be say that for 2 year now  overall  i would not recommend the blink a a system  i be tear between start over with a ring system and try to get the blink system work again  super frustrate with the hidden cost and unreliability  when it work  it be nice  though it be always delay  so we never get face or action  frequently it record back a people leave or nothing at all  a the person have already go  we get our first blink almost 5 year ago  we get two mini blink for our apartment  so we get doorbell when we get our own house  just over 2 year ago  since nobody could hear the knocking on the front door or garage door  they work great for about 6 month  so  i be stick  can not hear the doorbell without the plan  the plan be super overprice just to hear the doorbell \n"
     ]
    }
   ],
   "source": [
    "# Remove punctuation except apostrophes\n",
    "#process_reviews['Full_review'] = process_reviews['Full_review'].str.replace(r\"[^\\w\\s']\", \" \", regex=True)\n",
    "\n",
    "# Remove all punctuation, including apostrophes\n",
    "process_reviews['Full_review'] = process_reviews['Full_review'].str.replace(r\"[^\\w\\s]\", \"\", regex=True)\n",
    "\n",
    "#process_reviews['Full_review'] = process_reviews['Full_review'].str.translate(str.maketrans('','', string.punctuation))\n",
    "\n",
    "\n",
    "print('Output review example:')\n",
    "print(process_reviews.iloc[5]['Full_review'])"
   ]
  },
  {
   "cell_type": "markdown",
   "id": "2b48e102",
   "metadata": {},
   "source": [
    "### <font color=\"red\">7.  Removing Numeric Characters</font>"
   ]
  },
  {
   "cell_type": "markdown",
   "id": "71ebd679",
   "metadata": {},
   "source": [
    "This ensures that any numbers, which may not add meaningful content for analysis, are cleaned up prior to tokenization."
   ]
  },
  {
   "cell_type": "code",
   "execution_count": 169,
   "id": "675c914e",
   "metadata": {},
   "outputs": [
    {
     "name": "stdout",
     "output_type": "stream",
     "text": [
      "Output review example:\n",
      "do not do much  but nothing work without it  i be not impress with the blink system at all  it spend most of it be time offline and miss  currently  i have  mini blink  which work the best  if they be plug in  currently  one be miss  and the other be often unplugged because it be annoy if someone be work in the backyard  we have  doorbell  one never seem to be work  but the front door at least ring through  i rarely get picture from it anymore  we have  spotlight  one require the little white box to work that store the picture and uploads to the blink plan  however  if the white box fails  you have no way to contact or store the picture  it be be age since the white storage box quit working  and i can not find the replacement  my husband say he will get around to instal the second spotlight  but he be be say that for  year now  overall  i would not recommend the blink a a system  i be tear between start over with a ring system and try to get the blink system work again  super frustrate with the hidden cost and unreliability  when it work  it be nice  though it be always delay  so we never get face or action  frequently it record back a people leave or nothing at all  a the person have already go  we get our first blink almost  year ago  we get two mini blink for our apartment  so we get doorbell when we get our own house  just over  year ago  since nobody could hear the knocking on the front door or garage door  they work great for about  month  so  i be stick  can not hear the doorbell without the plan  the plan be super overprice just to hear the doorbell \n"
     ]
    }
   ],
   "source": [
    "process_reviews['Full_review'] = process_reviews['Full_review'].str.replace(r'\\d+', '', regex=True)\n",
    "\n",
    "print('Output review example:')\n",
    "print(process_reviews.iloc[5]['Full_review'])"
   ]
  },
  {
   "cell_type": "markdown",
   "id": "4ff9a796",
   "metadata": {},
   "source": [
    "### <font color=\"red\">8.  Removing Stopwords</font>"
   ]
  },
  {
   "cell_type": "markdown",
   "id": "a0075689",
   "metadata": {},
   "source": [
    "The Natural Language Toolkit (NLTK) is a powerful Python library used for natural language processing (NLP) tasks. It provides tools for text processing, such as tokenization, stemming, lemmatization, and removing stop words. <br> \n",
    "In this step, NLTK’s stop words list is used to clean up text by removing common, unimportant words like \"the, I, he, she\" \"and,\" and \"is, are\"\n",
    "For sentiment analysis, a customized stop word list is used to keep important words like \"not\" or \"hasn't,\" as they can affect the overall sentiment of a review. This step streamlines the text while keeping essential words for accurate analysis.\n"
   ]
  },
  {
   "cell_type": "code",
   "execution_count": 170,
   "id": "53488b1e",
   "metadata": {},
   "outputs": [
    {
     "name": "stdout",
     "output_type": "stream",
     "text": [
      "Output review example:\n",
      "not much but nothing work without not impress blink system spend time offline miss currently mini blink work best plug currently one miss often unplugged annoy someone work backyard doorbell one never seem work but front door least ring rarely get picture anymore spotlight one require little white box work store picture uploads blink plan however white box fails no way contact store picture age since white storage box quit working not find replacement husband say get around instal second spotlight but say year overall would not recommend blink system tear start ring system try get blink system work super frustrate hidden cost unreliability work nice though always delay never get face action frequently record back people leave nothing person already go get first blink almost year ago get two mini blink apartment get doorbell get house year ago since nobody could hear knocking front door garage door work great month stick not hear doorbell without plan plan super overprice hear doorbell\n"
     ]
    }
   ],
   "source": [
    "# Loading the gereral English stop words\n",
    "stop_words = set(stopwords.words('english'))\n",
    "\n",
    "# Defining the words to keep for sentiment analysis\n",
    "important_words = {\n",
    "    \"doesn\", \"doesn't\", \"doesnt\", \"dont\", \"don't\", \"not\", \"wasn't\", \"wasnt\",\n",
    "    \"aren\", \"aren't\", \"arent\",  \"couldn\", \"couldn't\", \"couldnt\", \"didn\",\n",
    "    \"didn't\", \"didnt\", \"hadn\", \"hadn't\", \"hadnt\",  \"hasn\", \"hasn't\", \"hasnt\",\n",
    "    \"haven't\", \"havent\", \"isn\", \"isn't\", \"isnt\", \"mightn\",  \"mightn't\",\n",
    "    \"mightnt\", \"mustn\", \"mustn't\", \"mustnt\", \"needn\", \"needn't\", \"neednt\",\n",
    "    \"shan\", \"shan't\", \"shant\", \"shouldn\", \"shouldn't\", \"shouldnt\", \"wasn\",\n",
    "    \"wasn't\",  \"wasnt\", \"weren\", \"weren't\", \"werent\", \"won\", \"won't\", \"wont\",\n",
    "    \"wouldn\", \"wouldn't\", \"wouldnt\", \"good\", \"bad\", \"worst\", \"wonderfull\",\n",
    "    \"best\", \"better\", \"not\", \"no\", \"but\", \"yet\", \"never\", \"none\"\n",
    "}\n",
    "\n",
    "# Removing import sentiment-related words from the stop words list\n",
    "custom_stop_words = stop_words - important_words\n",
    "\n",
    "# Removing customized stop words\n",
    "process_reviews['Full_review'] = process_reviews['Full_review'].apply(lambda x: ' '.join([word for word in x.split() if word not in (custom_stop_words)]))\n",
    "\n",
    "print('Output review example:')\n",
    "print(process_reviews.iloc[5]['Full_review'])"
   ]
  },
  {
   "cell_type": "markdown",
   "id": "6f7c8e67",
   "metadata": {},
   "source": [
    "The resulting text is now concise, standardized, and retains crucial context. Contractions have been expanded, preserving sentiment, and punctuation has been selectively handled to maintain sentence structure. Stop words are removed, and words are lemmatized, reducing them to their base forms. This refined text strikes a balance between clarity and simplicity, enhancing readability while preserving essential information, making it well-suited for both visualization and further analysis."
   ]
  },
  {
   "cell_type": "markdown",
   "id": "3ae0465b",
   "metadata": {},
   "source": [
    "## <font color=\"red\">12.  Export Cleaned Dataset</font>"
   ]
  },
  {
   "cell_type": "code",
   "execution_count": 171,
   "id": "0aeef2ef",
   "metadata": {},
   "outputs": [
    {
     "name": "stdout",
     "output_type": "stream",
     "text": [
      "<class 'pandas.core.frame.DataFrame'>\n",
      "Index: 15791 entries, 0 to 15861\n",
      "Data columns (total 10 columns):\n",
      " #   Column       Non-Null Count  Dtype  \n",
      "---  ------       --------------  -----  \n",
      " 0   Review_id    15791 non-null  object \n",
      " 1   Rating       15791 non-null  float64\n",
      " 2   Product_id   15791 non-null  object \n",
      " 3   Review_len   15791 non-null  int64  \n",
      " 4   Word_count   15791 non-null  int64  \n",
      " 5   Full_review  15791 non-null  object \n",
      " 6   Sentiment    15791 non-null  object \n",
      " 7   Day          15791 non-null  int32  \n",
      " 8   Month        15791 non-null  int32  \n",
      " 9   Year         15791 non-null  int32  \n",
      "dtypes: float64(1), int32(3), int64(2), object(4)\n",
      "memory usage: 1.1+ MB\n"
     ]
    }
   ],
   "source": [
    "process_reviews.info()"
   ]
  },
  {
   "cell_type": "code",
   "execution_count": 172,
   "id": "ac642075",
   "metadata": {},
   "outputs": [
    {
     "data": {
      "text/plain": [
       "Review_id      0\n",
       "Rating         0\n",
       "Product_id     0\n",
       "Review_len     0\n",
       "Word_count     0\n",
       "Full_review    0\n",
       "Sentiment      0\n",
       "Day            0\n",
       "Month          0\n",
       "Year           0\n",
       "dtype: int64"
      ]
     },
     "execution_count": 172,
     "metadata": {},
     "output_type": "execute_result"
    }
   ],
   "source": [
    "# Check NULL value\n",
    "process_reviews.isnull().sum()"
   ]
  },
  {
   "cell_type": "code",
   "execution_count": 173,
   "id": "0db0ea7e",
   "metadata": {},
   "outputs": [
    {
     "data": {
      "text/plain": [
       "(15791, 10)"
      ]
     },
     "execution_count": 173,
     "metadata": {},
     "output_type": "execute_result"
    }
   ],
   "source": [
    "process_reviews.shape"
   ]
  },
  {
   "cell_type": "code",
   "execution_count": 174,
   "id": "d87dfd04",
   "metadata": {},
   "outputs": [
    {
     "data": {
      "text/html": [
       "<div>\n",
       "<style scoped>\n",
       "    .dataframe tbody tr th:only-of-type {\n",
       "        vertical-align: middle;\n",
       "    }\n",
       "\n",
       "    .dataframe tbody tr th {\n",
       "        vertical-align: top;\n",
       "    }\n",
       "\n",
       "    .dataframe thead th {\n",
       "        text-align: right;\n",
       "    }\n",
       "</style>\n",
       "<table border=\"1\" class=\"dataframe\">\n",
       "  <thead>\n",
       "    <tr style=\"text-align: right;\">\n",
       "      <th></th>\n",
       "      <th>Review_id</th>\n",
       "      <th>Rating</th>\n",
       "      <th>Product_id</th>\n",
       "      <th>Review_len</th>\n",
       "      <th>Word_count</th>\n",
       "      <th>Full_review</th>\n",
       "      <th>Sentiment</th>\n",
       "      <th>Day</th>\n",
       "      <th>Month</th>\n",
       "      <th>Year</th>\n",
       "    </tr>\n",
       "  </thead>\n",
       "  <tbody>\n",
       "    <tr>\n",
       "      <th>0</th>\n",
       "      <td>R192QJ45JRSLTC</td>\n",
       "      <td>5.0</td>\n",
       "      <td>B08JHCVHTY</td>\n",
       "      <td>2558</td>\n",
       "      <td>356</td>\n",
       "      <td>not think need wish blink subscription basic p...</td>\n",
       "      <td>Positive</td>\n",
       "      <td>13</td>\n",
       "      <td>7</td>\n",
       "      <td>2024</td>\n",
       "    </tr>\n",
       "    <tr>\n",
       "      <th>1</th>\n",
       "      <td>RLJN0G2I0CRNC</td>\n",
       "      <td>5.0</td>\n",
       "      <td>B08JHCVHTY</td>\n",
       "      <td>190</td>\n",
       "      <td>37</td>\n",
       "      <td>worth every penny blink camera house year peac...</td>\n",
       "      <td>Positive</td>\n",
       "      <td>10</td>\n",
       "      <td>12</td>\n",
       "      <td>2024</td>\n",
       "    </tr>\n",
       "    <tr>\n",
       "      <th>2</th>\n",
       "      <td>R19D78F9YK0DVA</td>\n",
       "      <td>5.0</td>\n",
       "      <td>B08JHCVHTY</td>\n",
       "      <td>638</td>\n",
       "      <td>97</td>\n",
       "      <td>quite satisfied use blink subscription plus pl...</td>\n",
       "      <td>Positive</td>\n",
       "      <td>10</td>\n",
       "      <td>11</td>\n",
       "      <td>2024</td>\n",
       "    </tr>\n",
       "    <tr>\n",
       "      <th>3</th>\n",
       "      <td>R2W7QUYHDCN6CB</td>\n",
       "      <td>4.0</td>\n",
       "      <td>B08JHCVHTY</td>\n",
       "      <td>996</td>\n",
       "      <td>189</td>\n",
       "      <td>nice add security really like camera give u st...</td>\n",
       "      <td>Positive</td>\n",
       "      <td>26</td>\n",
       "      <td>9</td>\n",
       "      <td>2024</td>\n",
       "    </tr>\n",
       "    <tr>\n",
       "      <th>4</th>\n",
       "      <td>RM9R0N4N310DC</td>\n",
       "      <td>5.0</td>\n",
       "      <td>B08JHCVHTY</td>\n",
       "      <td>766</td>\n",
       "      <td>114</td>\n",
       "      <td>great item blink subscription plus plan fantas...</td>\n",
       "      <td>Positive</td>\n",
       "      <td>21</td>\n",
       "      <td>10</td>\n",
       "      <td>2024</td>\n",
       "    </tr>\n",
       "  </tbody>\n",
       "</table>\n",
       "</div>"
      ],
      "text/plain": [
       "        Review_id  Rating  Product_id  Review_len  Word_count  \\\n",
       "0  R192QJ45JRSLTC     5.0  B08JHCVHTY        2558         356   \n",
       "1   RLJN0G2I0CRNC     5.0  B08JHCVHTY         190          37   \n",
       "2  R19D78F9YK0DVA     5.0  B08JHCVHTY         638          97   \n",
       "3  R2W7QUYHDCN6CB     4.0  B08JHCVHTY         996         189   \n",
       "4   RM9R0N4N310DC     5.0  B08JHCVHTY         766         114   \n",
       "\n",
       "                                         Full_review Sentiment  Day  Month  \\\n",
       "0  not think need wish blink subscription basic p...  Positive   13      7   \n",
       "1  worth every penny blink camera house year peac...  Positive   10     12   \n",
       "2  quite satisfied use blink subscription plus pl...  Positive   10     11   \n",
       "3  nice add security really like camera give u st...  Positive   26      9   \n",
       "4  great item blink subscription plus plan fantas...  Positive   21     10   \n",
       "\n",
       "   Year  \n",
       "0  2024  \n",
       "1  2024  \n",
       "2  2024  \n",
       "3  2024  \n",
       "4  2024  "
      ]
     },
     "execution_count": 174,
     "metadata": {},
     "output_type": "execute_result"
    }
   ],
   "source": [
    "process_reviews.head()"
   ]
  },
  {
   "cell_type": "code",
   "execution_count": 175,
   "id": "30389294",
   "metadata": {},
   "outputs": [],
   "source": [
    "# Export the cleaned dataset to a excel file\n",
    "process_reviews.to_excel('../data/cleaned_amazon_reviews.xlsx', index=False)"
   ]
  }
 ],
 "metadata": {
  "kernelspec": {
   "display_name": "base",
   "language": "python",
   "name": "python3"
  },
  "language_info": {
   "codemirror_mode": {
    "name": "ipython",
    "version": 3
   },
   "file_extension": ".py",
   "mimetype": "text/x-python",
   "name": "python",
   "nbconvert_exporter": "python",
   "pygments_lexer": "ipython3",
   "version": "3.11.7"
  }
 },
 "nbformat": 4,
 "nbformat_minor": 5
}
